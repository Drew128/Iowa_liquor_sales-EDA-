{
  "nbformat": 4,
  "nbformat_minor": 0,
  "metadata": {
    "colab": {
      "name": "Iowa_liquor_sales(EDA).ipynb",
      "provenance": [],
      "collapsed_sections": [],
      "authorship_tag": "ABX9TyOB97xKjmSRe2q/uc0V9YGk",
      "include_colab_link": true
    },
    "kernelspec": {
      "name": "python3",
      "display_name": "Python 3"
    }
  },
  "cells": [
    {
      "cell_type": "markdown",
      "metadata": {
        "id": "view-in-github",
        "colab_type": "text"
      },
      "source": [
        "<a href=\"https://colab.research.google.com/github/Drew128/Iowa_liquor_sales-EDA-/blob/stage/Iowa_liquor_sales(EDA).ipynb\" target=\"_parent\"><img src=\"https://colab.research.google.com/assets/colab-badge.svg\" alt=\"Open In Colab\"/></a>"
      ]
    },
    {
      "cell_type": "code",
      "metadata": {
        "id": "GHVQVJ5lQ7TH",
        "colab_type": "code",
        "colab": {
          "base_uri": "https://localhost:8080/",
          "height": 34
        },
        "outputId": "49a6bf23-affd-4412-8f93-3a460116a561"
      },
      "source": [
        "from google.colab import auth\n",
        "auth.authenticate_user()\n",
        "print('Authenticated')"
      ],
      "execution_count": 3,
      "outputs": [
        {
          "output_type": "stream",
          "text": [
            "Authenticated\n"
          ],
          "name": "stdout"
        }
      ]
    },
    {
      "cell_type": "code",
      "metadata": {
        "id": "nnwbknxfUjkB",
        "colab_type": "code",
        "colab": {}
      },
      "source": [
        "%%bigquery --project project_name df\n",
        "SELECT \n",
        "  *\n",
        "FROM `bigquery-public-data.iowa_liquor_sales.sales`\n",
        "LIMIT 100000"
      ],
      "execution_count": 0,
      "outputs": []
    },
    {
      "cell_type": "code",
      "metadata": {
        "id": "awctDmIsVxh4",
        "colab_type": "code",
        "colab": {
          "base_uri": "https://localhost:8080/",
          "height": 400
        },
        "outputId": "172d49b8-476b-4ce3-cc63-ff31184d252f"
      },
      "source": [
        "df.head()"
      ],
      "execution_count": 15,
      "outputs": [
        {
          "output_type": "execute_result",
          "data": {
            "text/html": [
              "<div>\n",
              "<style scoped>\n",
              "    .dataframe tbody tr th:only-of-type {\n",
              "        vertical-align: middle;\n",
              "    }\n",
              "\n",
              "    .dataframe tbody tr th {\n",
              "        vertical-align: top;\n",
              "    }\n",
              "\n",
              "    .dataframe thead th {\n",
              "        text-align: right;\n",
              "    }\n",
              "</style>\n",
              "<table border=\"1\" class=\"dataframe\">\n",
              "  <thead>\n",
              "    <tr style=\"text-align: right;\">\n",
              "      <th></th>\n",
              "      <th>invoice_and_item_number</th>\n",
              "      <th>date</th>\n",
              "      <th>store_number</th>\n",
              "      <th>store_name</th>\n",
              "      <th>address</th>\n",
              "      <th>city</th>\n",
              "      <th>zip_code</th>\n",
              "      <th>store_location</th>\n",
              "      <th>county_number</th>\n",
              "      <th>county</th>\n",
              "      <th>category</th>\n",
              "      <th>category_name</th>\n",
              "      <th>vendor_number</th>\n",
              "      <th>vendor_name</th>\n",
              "      <th>item_number</th>\n",
              "      <th>item_description</th>\n",
              "      <th>pack</th>\n",
              "      <th>bottle_volume_ml</th>\n",
              "      <th>state_bottle_cost</th>\n",
              "      <th>state_bottle_retail</th>\n",
              "      <th>bottles_sold</th>\n",
              "      <th>sale_dollars</th>\n",
              "      <th>volume_sold_liters</th>\n",
              "      <th>volume_sold_gallons</th>\n",
              "    </tr>\n",
              "  </thead>\n",
              "  <tbody>\n",
              "    <tr>\n",
              "      <th>0</th>\n",
              "      <td>INV-19607500040</td>\n",
              "      <td>2019-05-24</td>\n",
              "      <td>3514</td>\n",
              "      <td>Karen's Spirits and Wine</td>\n",
              "      <td>328  2nd Ave S</td>\n",
              "      <td>Fort Dodge</td>\n",
              "      <td>50501</td>\n",
              "      <td>POINT (-94.192501 42.502311)</td>\n",
              "      <td>94</td>\n",
              "      <td>WEBSTER</td>\n",
              "      <td>1041300</td>\n",
              "      <td>American Sloe Gins</td>\n",
              "      <td>434</td>\n",
              "      <td>LUXCO INC</td>\n",
              "      <td>33717</td>\n",
              "      <td>Paramount Sloe Gin</td>\n",
              "      <td>12</td>\n",
              "      <td>1000</td>\n",
              "      <td>5.42</td>\n",
              "      <td>8.13</td>\n",
              "      <td>2</td>\n",
              "      <td>16.26</td>\n",
              "      <td>2.00</td>\n",
              "      <td>0.52</td>\n",
              "    </tr>\n",
              "    <tr>\n",
              "      <th>1</th>\n",
              "      <td>INV-20485000040</td>\n",
              "      <td>2019-07-08</td>\n",
              "      <td>4070</td>\n",
              "      <td>Grieder Beverage Depot</td>\n",
              "      <td>708  13th St</td>\n",
              "      <td>Belle Plaine</td>\n",
              "      <td>52208</td>\n",
              "      <td>POINT (-92.278 41.897054)</td>\n",
              "      <td>6</td>\n",
              "      <td>BENTON</td>\n",
              "      <td>1041300</td>\n",
              "      <td>American Sloe Gins</td>\n",
              "      <td>434</td>\n",
              "      <td>LUXCO INC</td>\n",
              "      <td>33717</td>\n",
              "      <td>Paramount Sloe Gin</td>\n",
              "      <td>12</td>\n",
              "      <td>1000</td>\n",
              "      <td>5.42</td>\n",
              "      <td>8.13</td>\n",
              "      <td>2</td>\n",
              "      <td>16.26</td>\n",
              "      <td>2.00</td>\n",
              "      <td>0.52</td>\n",
              "    </tr>\n",
              "    <tr>\n",
              "      <th>2</th>\n",
              "      <td>INV-00052500097</td>\n",
              "      <td>2016-08-31</td>\n",
              "      <td>2565</td>\n",
              "      <td>Hy-Vee Food Store / Spencer</td>\n",
              "      <td>819 N Grand Ave</td>\n",
              "      <td>Spencer</td>\n",
              "      <td>51301</td>\n",
              "      <td>POINT (-95.14506 43.145897)</td>\n",
              "      <td>21</td>\n",
              "      <td>CLAY</td>\n",
              "      <td>1070000</td>\n",
              "      <td>Cocktails / RTD</td>\n",
              "      <td>395</td>\n",
              "      <td>PROXIMO</td>\n",
              "      <td>58842</td>\n",
              "      <td>Jose Cuervo Coconut Pineapple</td>\n",
              "      <td>6</td>\n",
              "      <td>1750</td>\n",
              "      <td>8.20</td>\n",
              "      <td>12.30</td>\n",
              "      <td>3</td>\n",
              "      <td>12.30</td>\n",
              "      <td>5.25</td>\n",
              "      <td>1.38</td>\n",
              "    </tr>\n",
              "    <tr>\n",
              "      <th>3</th>\n",
              "      <td>INV-00074900026</td>\n",
              "      <td>2016-08-31</td>\n",
              "      <td>3666</td>\n",
              "      <td>Target Store T-1771 / Cedar Rapids</td>\n",
              "      <td>3400 Edgewood Rd SW</td>\n",
              "      <td>Cedar Rapids</td>\n",
              "      <td>52404</td>\n",
              "      <td>POINT (-91.716111 41.944272)</td>\n",
              "      <td>57</td>\n",
              "      <td>LINN</td>\n",
              "      <td>1070000</td>\n",
              "      <td>Cocktails / RTD</td>\n",
              "      <td>395</td>\n",
              "      <td>PROXIMO</td>\n",
              "      <td>58893</td>\n",
              "      <td>Jose Cuervo Sparkling Paloma 4pk Cans</td>\n",
              "      <td>6</td>\n",
              "      <td>800</td>\n",
              "      <td>3.88</td>\n",
              "      <td>5.82</td>\n",
              "      <td>1</td>\n",
              "      <td>34.92</td>\n",
              "      <td>0.80</td>\n",
              "      <td>0.21</td>\n",
              "    </tr>\n",
              "    <tr>\n",
              "      <th>4</th>\n",
              "      <td>INV-00016600084</td>\n",
              "      <td>2016-08-29</td>\n",
              "      <td>2573</td>\n",
              "      <td>Hy-Vee Food Store / Muscatine</td>\n",
              "      <td>2400 2nd Ave</td>\n",
              "      <td>Muscatine</td>\n",
              "      <td>52761</td>\n",
              "      <td>POINT (-91.035138 41.451349)</td>\n",
              "      <td>70</td>\n",
              "      <td>MUSCATINE</td>\n",
              "      <td>1031000</td>\n",
              "      <td>American Vodka</td>\n",
              "      <td>297</td>\n",
              "      <td>Laird &amp; Company</td>\n",
              "      <td>35918</td>\n",
              "      <td>Five O'clock Vodka</td>\n",
              "      <td>6</td>\n",
              "      <td>1750</td>\n",
              "      <td>7.20</td>\n",
              "      <td>10.80</td>\n",
              "      <td>3</td>\n",
              "      <td>64.80</td>\n",
              "      <td>5.25</td>\n",
              "      <td>1.38</td>\n",
              "    </tr>\n",
              "  </tbody>\n",
              "</table>\n",
              "</div>"
            ],
            "text/plain": [
              "  invoice_and_item_number        date  ... volume_sold_liters volume_sold_gallons\n",
              "0         INV-19607500040  2019-05-24  ...               2.00                0.52\n",
              "1         INV-20485000040  2019-07-08  ...               2.00                0.52\n",
              "2         INV-00052500097  2016-08-31  ...               5.25                1.38\n",
              "3         INV-00074900026  2016-08-31  ...               0.80                0.21\n",
              "4         INV-00016600084  2016-08-29  ...               5.25                1.38\n",
              "\n",
              "[5 rows x 24 columns]"
            ]
          },
          "metadata": {
            "tags": []
          },
          "execution_count": 15
        }
      ]
    },
    {
      "cell_type": "code",
      "metadata": {
        "id": "XrvQQ2MIWBLL",
        "colab_type": "code",
        "colab": {
          "base_uri": "https://localhost:8080/",
          "height": 504
        },
        "outputId": "bb677ce7-f1b9-4229-a484-0542923d0e7f"
      },
      "source": [
        "df.info()"
      ],
      "execution_count": 20,
      "outputs": [
        {
          "output_type": "stream",
          "text": [
            "<class 'pandas.core.frame.DataFrame'>\n",
            "RangeIndex: 100000 entries, 0 to 99999\n",
            "Data columns (total 24 columns):\n",
            "invoice_and_item_number    100000 non-null object\n",
            "date                       100000 non-null object\n",
            "store_number               100000 non-null object\n",
            "store_name                 100000 non-null object\n",
            "address                    99698 non-null object\n",
            "city                       99698 non-null object\n",
            "zip_code                   99698 non-null object\n",
            "store_location             90279 non-null object\n",
            "county_number              99221 non-null object\n",
            "county                     99221 non-null object\n",
            "category                   98812 non-null object\n",
            "category_name              98233 non-null object\n",
            "vendor_number              100000 non-null object\n",
            "vendor_name                100000 non-null object\n",
            "item_number                100000 non-null object\n",
            "item_description           100000 non-null object\n",
            "pack                       100000 non-null int64\n",
            "bottle_volume_ml           100000 non-null int64\n",
            "state_bottle_cost          100000 non-null float64\n",
            "state_bottle_retail        100000 non-null float64\n",
            "bottles_sold               100000 non-null int64\n",
            "sale_dollars               100000 non-null float64\n",
            "volume_sold_liters         100000 non-null float64\n",
            "volume_sold_gallons        100000 non-null float64\n",
            "dtypes: float64(5), int64(3), object(16)\n",
            "memory usage: 18.3+ MB\n"
          ],
          "name": "stdout"
        }
      ]
    },
    {
      "cell_type": "code",
      "metadata": {
        "id": "khrA4E6gXup1",
        "colab_type": "code",
        "colab": {
          "base_uri": "https://localhost:8080/",
          "height": 437
        },
        "outputId": "db8b2b1f-f364-4d0c-a795-b4a9a98f69cc"
      },
      "source": [
        "import pandas as pd\n",
        "\n",
        "# check null values in data\n",
        "\n",
        "pd.isnull(df).any()"
      ],
      "execution_count": 79,
      "outputs": [
        {
          "output_type": "execute_result",
          "data": {
            "text/plain": [
              "invoice_and_item_number    False\n",
              "date                       False\n",
              "store_number               False\n",
              "store_name                 False\n",
              "address                     True\n",
              "city                        True\n",
              "zip_code                    True\n",
              "store_location              True\n",
              "county_number               True\n",
              "county                      True\n",
              "category                    True\n",
              "category_name               True\n",
              "vendor_number              False\n",
              "vendor_name                False\n",
              "item_number                False\n",
              "item_description           False\n",
              "pack                       False\n",
              "bottle_volume_ml           False\n",
              "state_bottle_cost          False\n",
              "state_bottle_retail        False\n",
              "bottles_sold               False\n",
              "sale_dollars               False\n",
              "volume_sold_liters         False\n",
              "volume_sold_gallons        False\n",
              "dtype: bool"
            ]
          },
          "metadata": {
            "tags": []
          },
          "execution_count": 79
        }
      ]
    },
    {
      "cell_type": "code",
      "metadata": {
        "id": "gR086WsLY3Ts",
        "colab_type": "code",
        "colab": {
          "base_uri": "https://localhost:8080/",
          "height": 420
        },
        "outputId": "c34309bb-5b8f-4d99-b2fb-e0ddd76aeb78"
      },
      "source": [
        "# info about columns\n",
        "for column in df.columns:\n",
        "  print(f'{column: <25} had a    {df[column].nunique(): <6} unique values    type: {df.dtypes[column]}')"
      ],
      "execution_count": 89,
      "outputs": [
        {
          "output_type": "stream",
          "text": [
            "invoice_and_item_number   had a    100000 unique values    type: object\n",
            "date                      had a    1869   unique values    type: object\n",
            "store_number              had a    1808   unique values    type: object\n",
            "store_name                had a    1868   unique values    type: object\n",
            "address                   had a    2776   unique values    type: object\n",
            "city                      had a    730    unique values    type: object\n",
            "zip_code                  had a    436    unique values    type: object\n",
            "store_location            had a    1464   unique values    type: object\n",
            "county_number             had a    108    unique values    type: object\n",
            "county                    had a    199    unique values    type: object\n",
            "category                  had a    80     unique values    type: object\n",
            "category_name             had a    79     unique values    type: object\n",
            "vendor_number             had a    150    unique values    type: object\n",
            "vendor_name               had a    210    unique values    type: object\n",
            "item_number               had a    2243   unique values    type: object\n",
            "item_description          had a    2150   unique values    type: object\n",
            "pack                      had a    19     unique values    type: int64\n",
            "bottle_volume_ml          had a    39     unique values    type: int64\n",
            "state_bottle_cost         had a    1159   unique values    type: float64\n",
            "state_bottle_retail       had a    1223   unique values    type: float64\n",
            "bottles_sold              had a    121    unique values    type: int64\n",
            "sale_dollars              had a    4802   unique values    type: float64\n",
            "volume_sold_liters        had a    287    unique values    type: float64\n",
            "volume_sold_gallons       had a    333    unique values    type: float64\n"
          ],
          "name": "stdout"
        }
      ]
    },
    {
      "cell_type": "code",
      "metadata": {
        "id": "zR7L7hPYkRAe",
        "colab_type": "code",
        "colab": {
          "base_uri": "https://localhost:8080/",
          "height": 34
        },
        "outputId": "d9eab5d4-0e46-466f-95d6-eda7008c613a"
      },
      "source": [
        "from collections import Counter\n",
        "\n",
        "date = df['date'].unique()\n",
        "date.sort()\n",
        "# days delay between records & it`s frequency \n",
        "# 1 day delay means that we have day per day dates\n",
        "Counter(abs(date[i]-date[i+1]).days for i, v in enumerate(date[:-1]))"
      ],
      "execution_count": 90,
      "outputs": [
        {
          "output_type": "execute_result",
          "data": {
            "text/plain": [
              "Counter({1: 1436, 2: 33, 3: 189, 4: 200, 5: 10})"
            ]
          },
          "metadata": {
            "tags": []
          },
          "execution_count": 90
        }
      ]
    },
    {
      "cell_type": "code",
      "metadata": {
        "id": "elfZ9iBYyTTv",
        "colab_type": "code",
        "colab": {
          "base_uri": "https://localhost:8080/",
          "height": 296
        },
        "outputId": "24a45a0d-055c-4e8e-8196-600ad89fd1f4"
      },
      "source": [
        "import matplotlib.pyplot as plt\n",
        "import seaborn as sns\n",
        "\n",
        "sum_by_date = df[['date', 'sale_dollars']].groupby('date').sum()\n",
        "sns.lineplot(data=sum_by_date)"
      ],
      "execution_count": 117,
      "outputs": [
        {
          "output_type": "execute_result",
          "data": {
            "text/plain": [
              "<matplotlib.axes._subplots.AxesSubplot at 0x7f58594350b8>"
            ]
          },
          "metadata": {
            "tags": []
          },
          "execution_count": 117
        },
        {
          "output_type": "display_data",
          "data": {
            "image/png": "[encoded data removed]",
            "text/plain": [
              "<Figure size 432x288 with 1 Axes>"
            ]
          },
          "metadata": {
            "tags": []
          }
        }
      ]
    },
    {
      "cell_type": "code",
      "metadata": {
        "id": "yH-wqJFXpMyl",
        "colab_type": "code",
        "colab": {
          "base_uri": "https://localhost:8080/",
          "height": 319
        },
        "outputId": "5122bb26-6107-4130-8c31-2ddcf836729b"
      },
      "source": [
        "sum_by_date = df[['date', 'sale_dollars']]\n",
        "sum_by_date['year'] = pd.to_datetime(sum_by_date['date']).dt.year\n",
        "sum_by_date['month'] = pd.to_datetime(sum_by_date['date']).dt.month\n",
        "sum_by_date['week'] = pd.to_datetime(sum_by_date['date']).dt.weekday_name"
      ],
      "execution_count": 165,
      "outputs": [
        {
          "output_type": "stream",
          "text": [
            "/usr/local/lib/python3.6/dist-packages/ipykernel_launcher.py:2: SettingWithCopyWarning: \n",
            "A value is trying to be set on a copy of a slice from a DataFrame.\n",
            "Try using .loc[row_indexer,col_indexer] = value instead\n",
            "\n",
            "See the caveats in the documentation: http://pandas.pydata.org/pandas-docs/stable/user_guide/indexing.html#returning-a-view-versus-a-copy\n",
            "  \n",
            "/usr/local/lib/python3.6/dist-packages/ipykernel_launcher.py:3: SettingWithCopyWarning: \n",
            "A value is trying to be set on a copy of a slice from a DataFrame.\n",
            "Try using .loc[row_indexer,col_indexer] = value instead\n",
            "\n",
            "See the caveats in the documentation: http://pandas.pydata.org/pandas-docs/stable/user_guide/indexing.html#returning-a-view-versus-a-copy\n",
            "  This is separate from the ipykernel package so we can avoid doing imports until\n",
            "/usr/local/lib/python3.6/dist-packages/ipykernel_launcher.py:4: SettingWithCopyWarning: \n",
            "A value is trying to be set on a copy of a slice from a DataFrame.\n",
            "Try using .loc[row_indexer,col_indexer] = value instead\n",
            "\n",
            "See the caveats in the documentation: http://pandas.pydata.org/pandas-docs/stable/user_guide/indexing.html#returning-a-view-versus-a-copy\n",
            "  after removing the cwd from sys.path.\n"
          ],
          "name": "stderr"
        }
      ]
    },
    {
      "cell_type": "code",
      "metadata": {
        "id": "U2UFGHNTpOkR",
        "colab_type": "code",
        "colab": {
          "base_uri": "https://localhost:8080/",
          "height": 296
        },
        "outputId": "8c9a899d-f49c-4fdd-8aae-295e51d4754b"
      },
      "source": [
        "year_sesonality = sum_by_date[['year', 'sale_dollars']].groupby('year').sum()\n",
        "sns.lineplot(data=year_sesonality)"
      ],
      "execution_count": 149,
      "outputs": [
        {
          "output_type": "execute_result",
          "data": {
            "text/plain": [
              "<matplotlib.axes._subplots.AxesSubplot at 0x7f584ef5f668>"
            ]
          },
          "metadata": {
            "tags": []
          },
          "execution_count": 149
        },
        {
          "output_type": "display_data",
          "data": {
            "image/png": "[encoded data removed]",
            "text/plain": [
              "<Figure size 432x288 with 1 Axes>"
            ]
          },
          "metadata": {
            "tags": []
          }
        }
      ]
    },
    {
      "cell_type": "code",
      "metadata": {
        "id": "Wz321qH-pWIi",
        "colab_type": "code",
        "colab": {
          "base_uri": "https://localhost:8080/",
          "height": 296
        },
        "outputId": "b9b8583f-d4b4-4573-f8c9-b0264d8362c4"
      },
      "source": [
        "month_sesonality = sum_by_date[['month', 'sale_dollars']].groupby('month').sum()\n",
        "sns.lineplot(data=month_sesonality)"
      ],
      "execution_count": 198,
      "outputs": [
        {
          "output_type": "execute_result",
          "data": {
            "text/plain": [
              "<matplotlib.axes._subplots.AxesSubplot at 0x7f584807ada0>"
            ]
          },
          "metadata": {
            "tags": []
          },
          "execution_count": 198
        },
        {
          "output_type": "display_data",
          "data": {
            "image/png": "[encoded data removed]",
            "text/plain": [
              "<Figure size 432x288 with 1 Axes>"
            ]
          },
          "metadata": {
            "tags": []
          }
        }
      ]
    },
    {
      "cell_type": "code",
      "metadata": {
        "id": "zORPUL87pjVR",
        "colab_type": "code",
        "colab": {
          "base_uri": "https://localhost:8080/",
          "height": 296
        },
        "outputId": "9554ba54-45b3-46c1-ccc6-03106449dd7d"
      },
      "source": [
        "week_sesonality = sum_by_date[['week', 'sale_dollars']].groupby('week').sum()\n",
        "week_sesonality['week'] = week_sesonality.index\n",
        "sns.barplot(x=week_sesonality['week'], y=week_sesonality['sale_dollars'], order=[\"Sunday\", \"Monday\", \"Tuesday\", \"Wednesday\", \"Thursday\", \"Friday\", \"Saturday\"])"
      ],
      "execution_count": 207,
      "outputs": [
        {
          "output_type": "execute_result",
          "data": {
            "text/plain": [
              "<matplotlib.axes._subplots.AxesSubplot at 0x7f5847b5b1d0>"
            ]
          },
          "metadata": {
            "tags": []
          },
          "execution_count": 207
        },
        {
          "output_type": "display_data",
          "data": {
            "image/png": "[encoded data removed]",
            "text/plain": [
              "<Figure size 432x288 with 1 Axes>"
            ]
          },
          "metadata": {
            "tags": []
          }
        }
      ]
    },
    {
      "cell_type": "code",
      "metadata": {
        "id": "6GnZNh1R9KXo",
        "colab_type": "code",
        "colab": {}
      },
      "source": [
        ""
      ],
      "execution_count": 0,
      "outputs": []
    }
  ]
}